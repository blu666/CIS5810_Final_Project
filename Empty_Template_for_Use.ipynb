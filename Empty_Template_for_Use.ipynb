{
 "cells": [
  {
   "cell_type": "markdown",
   "metadata": {},
   "source": [
    "Before you start, make sure you have the following packages installed and set up. Note that you should have the same version specified in the requirements.txt.\n",
    "\n",
    "The package segment_anything is a bit different when setting up. You should set it up following the instructions here: https://github.com/facebookresearch/segment-anything/tree/main (in the installation part)"
   ]
  },
  {
   "cell_type": "code",
   "execution_count": null,
   "metadata": {},
   "outputs": [],
   "source": [
    "import cv2\n",
    "import numpy as np\n",
    "import matplotlib.pyplot as plt\n",
    "from segment_anything import sam_model_registry, SamPredictor\n",
    "from utils import *\n",
    "import os"
   ]
  },
  {
   "cell_type": "markdown",
   "metadata": {},
   "source": [
    "To DO:\n",
    "1. Before running the following block, make sure your desired photos are uploaded into the folder 'Images', with the naming convention 'xxx_1.jpg'and 'xxx_2.jpg'. We consider the 'xxx_1.jpg' as the cameraman image, and 'xxx_2.jpg' as the group photo.\n",
    "(Note that, if you want to change the input images to a different style type, change the img_suffix to your desired type as well, for example '.jpeg', or '.png')\n",
    "2. Change the xxx to the name of your desired photos"
   ]
  },
  {
   "cell_type": "code",
   "execution_count": null,
   "metadata": {},
   "outputs": [],
   "source": [
    "img_path = 'Images'\n",
    "img_name = 'xxx'\n",
    "img_suffix = '.jpg'\n",
    "os.makedirs('result/' + img_name, exist_ok=True)"
   ]
  },
  {
   "cell_type": "code",
   "execution_count": null,
   "metadata": {},
   "outputs": [],
   "source": [
    "img1 = cv2.imread(img_path + '/' + img_name + '_1' + img_suffix)\n",
    "img2 = cv2.imread(img_path + '/' + img_name + '_2' + img_suffix)\n",
    "img1 = cv2.cvtColor(img1, cv2.COLOR_BGR2RGB)\n",
    "img2 = cv2.cvtColor(img2, cv2.COLOR_BGR2RGB)\n",
    "_, axs = plt.subplots(1, 2, figsize=(20, 10))\n",
    "axs[0].imshow(img1)\n",
    "axs[0].set_axis_off()\n",
    "axs[1].imshow(img2)\n",
    "axs[1].set_axis_off()\n",
    "plt.show()"
   ]
  },
  {
   "cell_type": "code",
   "execution_count": null,
   "metadata": {},
   "outputs": [],
   "source": [
    "H = findHomography(img1, img2, showMatches=True, filePath='result/' + img_name)\n",
    "_, axs = plt.subplots(2, 2)\n",
    "axs[0, 0].imshow(img1)\n",
    "axs[0, 0].set_axis_off()\n",
    "axs[0, 0].set_title(\"Original Image 1\")\n",
    "axs[0, 1].imshow(img2)\n",
    "axs[0, 1].set_axis_off()\n",
    "axs[0, 1].set_title(\"Original Image 2\")\n",
    "axs[1, 0].imshow(cv2.warpPerspective(img1, H, (img1.shape[1], img1.shape[0])))\n",
    "axs[1, 0].set_axis_off()\n",
    "axs[1, 0].set_title(\"Warped Image 1\")\n",
    "plt.axis('off')\n",
    "plt.savefig(f'result/{img_name}/homography.jpg')"
   ]
  },
  {
   "cell_type": "code",
   "execution_count": null,
   "metadata": {},
   "outputs": [],
   "source": [
    "warped_img1 = cv2.warpPerspective(img1, H, (img1.shape[1], img1.shape[0]))\n",
    "cv2.imwrite(f'result/{img_name}/warped_img1.jpg', cv2.cvtColor(warped_img1, cv2.COLOR_RGB2BGR))\n",
    "plt.imshow(warped_img1)\n",
    "plt.axis('off')"
   ]
  },
  {
   "cell_type": "markdown",
   "metadata": {},
   "source": [
    "To DO:\n",
    "\n",
    "\n",
    "For the following block, if you are running the notebook on some new photos, run as it is. (i.e.run the portion of block denoted as 1). If you have already found the mask for the photo and you want to use the saved mask, comment out portion 1 and uncomment portion 2. (You can still run as default, but running portion 2 if a mask already existed is faster.)"
   ]
  },
  {
   "cell_type": "code",
   "execution_count": null,
   "metadata": {},
   "outputs": [],
   "source": [
    "bbox = findBoundingBox(warped_img1, winStride=(10, 10), scale=1.05)\n",
    "print(bbox)\n",
    "# 1\n",
    "mask = findMask(warped_img1, bbox)\n",
    "mask = mask[0]\n",
    "np.save('tmp/mask.npy', mask[0])\n",
    "np.save('tmp/bbox.npy', bbox)\n",
    "\n",
    "# 2\n",
    "# mask = np.load('tmp/mask.npy')\n",
    "# bbox = np.load('tmp/bbox.npy')\n",
    "\n",
    "plt.figure(figsize=(10, 10))\n",
    "plt.imshow(warped_img1)\n",
    "plt_mask(mask, plt.gca())\n",
    "plt_bbox(bbox, plt.gca())\n",
    "plt.savefig(f'result/{img_name}/bbox&mask.jpg')\n",
    "plt.show()"
   ]
  },
  {
   "cell_type": "code",
   "execution_count": null,
   "metadata": {},
   "outputs": [],
   "source": [
    "new_img = maskTransfer(warped_img1, img2, mask)\n",
    "cv2.imwrite(f'result/{img_name}/new_img.jpg', cv2.cvtColor(new_img, cv2.COLOR_RGB2BGR))\n",
    "plt.imshow(new_img)\n",
    "plt.axis('off')\n",
    "plt.show()   "
   ]
  },
  {
   "cell_type": "markdown",
   "metadata": {},
   "source": [
    "To Do:\n",
    "\n",
    "After running the above cell, you will find the resulting images in the folder 'result'. The above approach is our primary approach for this project. If you want to try some other approaches and compare the differences, you are free to run the following cells to see the different outputs from various approaches. However, in our minds, the above approach produces the best results. Please find the discussion part in our final report for more references on this matter. "
   ]
  },
  {
   "cell_type": "code",
   "execution_count": null,
   "metadata": {},
   "outputs": [],
   "source": [
    "# Box Transfer approach\n",
    "new_img2 = bboxTransfer(warped_img1, img2, bbox)\n",
    "cv2.imwrite(f'result/{img_name}/new_img2.jpg', cv2.cvtColor(new_img2, cv2.COLOR_RGB2BGR))\n",
    "plt.imshow(new_img2)\n",
    "plt.axis('off')\n",
    "plt.show()"
   ]
  },
  {
   "cell_type": "code",
   "execution_count": null,
   "metadata": {},
   "outputs": [],
   "source": [
    "# Poisson Blending approach\n",
    "new_img3 = poissonBlending(warped_img1, img2, mask)\n",
    "cv2.imwrite(f'result/{img_name}/new_img3.jpg', cv2.cvtColor(new_img3, cv2.COLOR_RGB2BGR))\n",
    "plt.imshow(new_img3)\n",
    "plt.axis('off')\n",
    "plt.show()"
   ]
  },
  {
   "cell_type": "code",
   "execution_count": null,
   "metadata": {},
   "outputs": [],
   "source": [
    "# Gaussian Mask Blending approach\n",
    "new_img4 = gaussianMaskBlending(warped_img1, img2, mask)\n",
    "cv2.imwrite(f'result/{img_name}/new_img4.jpg', cv2.cvtColor(new_img4, cv2.COLOR_RGB2BGR))\n",
    "plt.imshow(new_img4)\n",
    "plt.axis('off')\n",
    "plt.show()"
   ]
  }
 ],
 "metadata": {
  "kernelspec": {
   "display_name": "cis581",
   "language": "python",
   "name": "python3"
  },
  "language_info": {
   "codemirror_mode": {
    "name": "ipython",
    "version": 3
   },
   "file_extension": ".py",
   "mimetype": "text/x-python",
   "name": "python",
   "nbconvert_exporter": "python",
   "pygments_lexer": "ipython3",
   "version": "3.10.12"
  }
 },
 "nbformat": 4,
 "nbformat_minor": 2
}
